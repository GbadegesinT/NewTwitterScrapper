{
 "cells": [
  {
   "cell_type": "markdown",
   "id": "313b4a87",
   "metadata": {},
   "source": [
    "# Installation"
   ]
  },
  {
   "cell_type": "code",
   "execution_count": 10,
   "id": "1d87d4d7",
   "metadata": {},
   "outputs": [
    {
     "ename": "SyntaxError",
     "evalue": "invalid syntax (1865880534.py, line 4)",
     "output_type": "error",
     "traceback": [
      "\u001b[0;36m  Cell \u001b[0;32mIn[10], line 4\u001b[0;36m\u001b[0m\n\u001b[0;31m    pip install tweepy\u001b[0m\n\u001b[0m        ^\u001b[0m\n\u001b[0;31mSyntaxError\u001b[0m\u001b[0;31m:\u001b[0m invalid syntax\n"
     ]
    }
   ],
   "source": [
    "\n",
    "\n"
   ]
  },
  {
   "cell_type": "code",
   "execution_count": 11,
   "id": "fb3683ab",
   "metadata": {},
   "outputs": [
    {
     "name": "stdout",
     "output_type": "stream",
     "text": [
      "Requirement already satisfied: tweepy in ./anaconda3/lib/python3.11/site-packages (4.14.0)\n",
      "Requirement already satisfied: oauthlib<4,>=3.2.0 in ./anaconda3/lib/python3.11/site-packages (from tweepy) (3.2.2)\n",
      "Requirement already satisfied: requests<3,>=2.27.0 in ./anaconda3/lib/python3.11/site-packages (from tweepy) (2.31.0)\n",
      "Requirement already satisfied: requests-oauthlib<2,>=1.2.0 in ./anaconda3/lib/python3.11/site-packages (from tweepy) (1.3.1)\n",
      "Requirement already satisfied: charset-normalizer<4,>=2 in ./anaconda3/lib/python3.11/site-packages (from requests<3,>=2.27.0->tweepy) (2.0.4)\n",
      "Requirement already satisfied: idna<4,>=2.5 in ./anaconda3/lib/python3.11/site-packages (from requests<3,>=2.27.0->tweepy) (3.4)\n",
      "Requirement already satisfied: urllib3<3,>=1.21.1 in ./anaconda3/lib/python3.11/site-packages (from requests<3,>=2.27.0->tweepy) (1.26.16)\n",
      "Requirement already satisfied: certifi>=2017.4.17 in ./anaconda3/lib/python3.11/site-packages (from requests<3,>=2.27.0->tweepy) (2023.7.22)\n",
      "Note: you may need to restart the kernel to use updated packages.\n"
     ]
    }
   ],
   "source": [
    "#You can install the required Tweepy library using pip:\n",
    "\n",
    "\n",
    "pip install tweepy\n"
   ]
  },
  {
   "cell_type": "markdown",
   "id": "4d409340",
   "metadata": {},
   "source": [
    "# Authentication\n",
    "To interact with the Twitter API, you need to authenticate yourself. Here's how to authenticate using Tweepy:"
   ]
  },
  {
   "cell_type": "code",
   "execution_count": null,
   "id": "842bb511",
   "metadata": {},
   "outputs": [],
   "source": [
    "import tweepy\n",
    "\n",
    "# Your API credentials\n",
    "CONSUMER_KEY = 'your_consumer_key'\n",
    "CONSUMER_SECRET = 'your_consumer_secret'\n",
    "ACCESS_TOKEN = 'your_access_token'\n",
    "ACCESS_TOKEN_SECRET = 'your_access_token_secret'\n",
    "\n",
    "# Authenticate to Twitter\n",
    "client = tweepy.Client(\n",
    "    consumer_key=CONSUMER_KEY,\n",
    "    consumer_secret=CONSUMER_SECRET,\n",
    "    access_token=ACCESS_TOKEN,\n",
    "    access_token_secret=ACCESS_TOKEN_SECRET\n",
    ")\n"
   ]
  },
  {
   "cell_type": "markdown",
   "id": "ccb8740c",
   "metadata": {},
   "source": [
    "# Posting a Tweet\n",
    "You can post a tweet using Tweepy with the following code:"
   ]
  },
  {
   "cell_type": "code",
   "execution_count": null,
   "id": "1f3a0a3e",
   "metadata": {},
   "outputs": [],
   "source": [
    "message = \"Hello Twitter\"\n",
    "client.create_tweet(text=message)\n"
   ]
  },
  {
   "cell_type": "code",
   "execution_count": null,
   "id": "47b41aab",
   "metadata": {},
   "outputs": [],
   "source": [
    "\n",
    "ChatGPT\n",
    "Certainly, here's an improved and structured version of your GitHub repository's README file for interacting with the Twitter API using Tweepy in Python:\n",
    "\n",
    "Twitter API Interaction with Tweepy\n",
    "This repository provides a guide on how to interact with the Twitter API using Python and the Tweepy library. Recent changes to the Twitter API may have made existing libraries and scraping techniques obsolete. This guide aims to help you get started with the latest Twitter web scraping techniques using Tweepy.\n",
    "\n",
    "Prerequisites\n",
    "Before getting started, ensure that you have Python installed on your system.\n",
    "\n",
    "Twitter API Access Levels\n",
    "Please note that you cannot scrape tweets (Search Tweets) using the Free Level Access on the Twitter API. Free Level Access allows you to use the Manage Tweets and User Lookup features. To access the Search Tweets feature, you need to upgrade to the Basic Level.\n",
    "\n",
    "Installation\n",
    "You can install the required Tweepy library using pip:\n",
    "\n",
    "bash\n",
    "Copy code\n",
    "pip install tweepy\n",
    "Authentication\n",
    "To interact with the Twitter API, you need to authenticate yourself. Here's how to authenticate using Tweepy:\n",
    "\n",
    "python\n",
    "Copy code\n",
    "import tweepy\n",
    "\n",
    "# Your API credentials\n",
    "CONSUMER_KEY = 'your_consumer_key'\n",
    "CONSUMER_SECRET = 'your_consumer_secret'\n",
    "ACCESS_TOKEN = 'your_access_token'\n",
    "ACCESS_TOKEN_SECRET = 'your_access_token_secret'\n",
    "\n",
    "# Authenticate to Twitter\n",
    "client = tweepy.Client(\n",
    "    consumer_key=CONSUMER_KEY,\n",
    "    consumer_secret=CONSUMER_SECRET,\n",
    "    access_token=ACCESS_TOKEN,\n",
    "    access_token_secret=ACCESS_TOKEN_SECRET\n",
    ")\n",
    "Posting a Tweet\n",
    "You can post a tweet using Tweepy with the following code:\n",
    "\n",
    "python\n",
    "Copy code\n",
    "message = \"Hello Twitter\"\n",
    "client.create_tweet(text=message)\n"
   ]
  },
  {
   "cell_type": "markdown",
   "id": "a6e2172d",
   "metadata": {},
   "source": [
    "# Searching Recent Tweets\n",
    "To search for recent tweets (this requires Basic Level Access), you can use the following code:"
   ]
  },
  {
   "cell_type": "code",
   "execution_count": null,
   "id": "5a032a44",
   "metadata": {},
   "outputs": [],
   "source": [
    "query = 'QUERY'\n",
    "tweets = client.search_recent_tweets(query=query, max_results=10)\n",
    "for tweet in tweets.data:\n",
    "    print(tweet.text)\n"
   ]
  },
  {
   "cell_type": "markdown",
   "id": "20c250fa",
   "metadata": {},
   "source": [
    "# Media Upload (v1.1)\n",
    "If you want to upload media to Twitter (v1.1), you can do so as follows:"
   ]
  },
  {
   "cell_type": "code",
   "execution_count": null,
   "id": "00a0151b",
   "metadata": {},
   "outputs": [],
   "source": [
    "# Authenticate to Twitter\n",
    "auth = tweepy.OAuth1UserHandler(\n",
    "    CONSUMER_KEY, CONSUMER_SECRET,\n",
    "    ACCESS_TOKEN, ACCESS_TOKEN_SECRET\n",
    ")\n",
    "\n",
    "# Create API object\n",
    "api = tweepy.API(auth)\n",
    "\n",
    "# Upload Image\n",
    "media = api.media_upload(\"tweet_img.png\")\n"
   ]
  }
 ],
 "metadata": {
  "kernelspec": {
   "display_name": "Python 3 (ipykernel)",
   "language": "python",
   "name": "python3"
  },
  "language_info": {
   "codemirror_mode": {
    "name": "ipython",
    "version": 3
   },
   "file_extension": ".py",
   "mimetype": "text/x-python",
   "name": "python",
   "nbconvert_exporter": "python",
   "pygments_lexer": "ipython3",
   "version": "3.11.4"
  }
 },
 "nbformat": 4,
 "nbformat_minor": 5
}
